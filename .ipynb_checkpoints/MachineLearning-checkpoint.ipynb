{
 "cells": [
  {
   "cell_type": "code",
   "execution_count": 1,
   "metadata": {},
   "outputs": [],
   "source": [
    "# Import the libraries\n",
    "\n",
    "%matplotlib inline\n",
    "import pandas as pd\n",
    "pd.options.display.max_rows = 10\n",
    "\n",
    "import numpy as np\n",
    "import matplotlib.pyplot as plt\n",
    "\n",
    "from sklearn.feature_extraction import DictVectorizer\n",
    "from sklearn.preprocessing import StandardScaler\n",
    "from sklearn.neighbors import KNeighborsRegressor\n",
    "from sklearn.ensemble import RandomForestRegressor\n",
    "\n",
    "from sklearn.pipeline import Pipeline\n",
    "from sklearn.model_selection import cross_val_score"
   ]
  },
  {
   "cell_type": "code",
   "execution_count": 2,
   "metadata": {},
   "outputs": [
    {
     "data": {
      "text/html": [
       "<div>\n",
       "<style scoped>\n",
       "    .dataframe tbody tr th:only-of-type {\n",
       "        vertical-align: middle;\n",
       "    }\n",
       "\n",
       "    .dataframe tbody tr th {\n",
       "        vertical-align: top;\n",
       "    }\n",
       "\n",
       "    .dataframe thead th {\n",
       "        text-align: right;\n",
       "    }\n",
       "</style>\n",
       "<table border=\"1\" class=\"dataframe\">\n",
       "  <thead>\n",
       "    <tr style=\"text-align: right;\">\n",
       "      <th></th>\n",
       "      <th>Time Occurred</th>\n",
       "      <th>Victim Age</th>\n",
       "      <th>Day Occurred</th>\n",
       "      <th>Days To Report</th>\n",
       "      <th>Day of Year</th>\n",
       "      <th>Time of Day</th>\n",
       "      <th>Location Lat</th>\n",
       "      <th>Location Lng</th>\n",
       "    </tr>\n",
       "  </thead>\n",
       "  <tbody>\n",
       "    <tr>\n",
       "      <th>206865</th>\n",
       "      <td>2330</td>\n",
       "      <td>35.0</td>\n",
       "      <td>Tuesday</td>\n",
       "      <td>0</td>\n",
       "      <td>263</td>\n",
       "      <td>NIGHT</td>\n",
       "      <td>34.1810</td>\n",
       "      <td>-118.5904</td>\n",
       "    </tr>\n",
       "    <tr>\n",
       "      <th>1687</th>\n",
       "      <td>1300</td>\n",
       "      <td>56.0</td>\n",
       "      <td>Thursday</td>\n",
       "      <td>0</td>\n",
       "      <td>48</td>\n",
       "      <td>DAY</td>\n",
       "      <td>34.0398</td>\n",
       "      <td>-118.2413</td>\n",
       "    </tr>\n",
       "    <tr>\n",
       "      <th>197103</th>\n",
       "      <td>1145</td>\n",
       "      <td>40.0</td>\n",
       "      <td>Monday</td>\n",
       "      <td>85</td>\n",
       "      <td>185</td>\n",
       "      <td>DAY</td>\n",
       "      <td>34.0817</td>\n",
       "      <td>-118.3112</td>\n",
       "    </tr>\n",
       "    <tr>\n",
       "      <th>116807</th>\n",
       "      <td>1240</td>\n",
       "      <td>46.0</td>\n",
       "      <td>Saturday</td>\n",
       "      <td>0</td>\n",
       "      <td>302</td>\n",
       "      <td>DAY</td>\n",
       "      <td>34.0005</td>\n",
       "      <td>-118.2915</td>\n",
       "    </tr>\n",
       "    <tr>\n",
       "      <th>177559</th>\n",
       "      <td>810</td>\n",
       "      <td>0.0</td>\n",
       "      <td>Monday</td>\n",
       "      <td>1</td>\n",
       "      <td>290</td>\n",
       "      <td>DAY</td>\n",
       "      <td>33.9485</td>\n",
       "      <td>-118.2461</td>\n",
       "    </tr>\n",
       "    <tr>\n",
       "      <th>...</th>\n",
       "      <td>...</td>\n",
       "      <td>...</td>\n",
       "      <td>...</td>\n",
       "      <td>...</td>\n",
       "      <td>...</td>\n",
       "      <td>...</td>\n",
       "      <td>...</td>\n",
       "      <td>...</td>\n",
       "    </tr>\n",
       "    <tr>\n",
       "      <th>208750</th>\n",
       "      <td>1800</td>\n",
       "      <td>25.0</td>\n",
       "      <td>Monday</td>\n",
       "      <td>0</td>\n",
       "      <td>325</td>\n",
       "      <td>NIGHT</td>\n",
       "      <td>34.1811</td>\n",
       "      <td>-118.6059</td>\n",
       "    </tr>\n",
       "    <tr>\n",
       "      <th>3765</th>\n",
       "      <td>1710</td>\n",
       "      <td>30.0</td>\n",
       "      <td>Friday</td>\n",
       "      <td>0</td>\n",
       "      <td>126</td>\n",
       "      <td>DAY</td>\n",
       "      <td>34.0378</td>\n",
       "      <td>-118.2561</td>\n",
       "    </tr>\n",
       "    <tr>\n",
       "      <th>134400</th>\n",
       "      <td>2015</td>\n",
       "      <td>0.0</td>\n",
       "      <td>Tuesday</td>\n",
       "      <td>0</td>\n",
       "      <td>158</td>\n",
       "      <td>NIGHT</td>\n",
       "      <td>33.9791</td>\n",
       "      <td>-118.4669</td>\n",
       "    </tr>\n",
       "    <tr>\n",
       "      <th>101460</th>\n",
       "      <td>1800</td>\n",
       "      <td>0.0</td>\n",
       "      <td>Tuesday</td>\n",
       "      <td>6</td>\n",
       "      <td>249</td>\n",
       "      <td>DAY</td>\n",
       "      <td>34.0945</td>\n",
       "      <td>-118.2903</td>\n",
       "    </tr>\n",
       "    <tr>\n",
       "      <th>151161</th>\n",
       "      <td>1805</td>\n",
       "      <td>0.0</td>\n",
       "      <td>Wednesday</td>\n",
       "      <td>0</td>\n",
       "      <td>327</td>\n",
       "      <td>NIGHT</td>\n",
       "      <td>34.1448</td>\n",
       "      <td>-118.4117</td>\n",
       "    </tr>\n",
       "  </tbody>\n",
       "</table>\n",
       "<p>43406 rows × 8 columns</p>\n",
       "</div>"
      ],
      "text/plain": [
       "        Time Occurred  Victim Age Day Occurred  Days To Report  Day of Year  \\\n",
       "206865           2330        35.0      Tuesday               0          263   \n",
       "1687             1300        56.0     Thursday               0           48   \n",
       "197103           1145        40.0       Monday              85          185   \n",
       "116807           1240        46.0     Saturday               0          302   \n",
       "177559            810         0.0       Monday               1          290   \n",
       "...               ...         ...          ...             ...          ...   \n",
       "208750           1800        25.0       Monday               0          325   \n",
       "3765             1710        30.0       Friday               0          126   \n",
       "134400           2015         0.0      Tuesday               0          158   \n",
       "101460           1800         0.0      Tuesday               6          249   \n",
       "151161           1805         0.0    Wednesday               0          327   \n",
       "\n",
       "       Time of Day  Location Lat  Location Lng  \n",
       "206865       NIGHT       34.1810     -118.5904  \n",
       "1687           DAY       34.0398     -118.2413  \n",
       "197103         DAY       34.0817     -118.3112  \n",
       "116807         DAY       34.0005     -118.2915  \n",
       "177559         DAY       33.9485     -118.2461  \n",
       "...            ...           ...           ...  \n",
       "208750       NIGHT       34.1811     -118.6059  \n",
       "3765           DAY       34.0378     -118.2561  \n",
       "134400       NIGHT       33.9791     -118.4669  \n",
       "101460         DAY       34.0945     -118.2903  \n",
       "151161       NIGHT       34.1448     -118.4117  \n",
       "\n",
       "[43406 rows x 8 columns]"
      ]
     },
     "execution_count": 2,
     "metadata": {},
     "output_type": "execute_result"
    }
   ],
   "source": [
    "crimes_df = pd.read_csv(\"crime_data_edited.csv\")\n",
    "\n",
    "crimes_df = crimes_df.sample(frac=0.2)\n",
    "\n",
    "y = crimes_df[\"Crime Code\"]\n",
    "crimes_df.drop(\"Crime Code\", axis=1, inplace=True)\n",
    "\n",
    "crimes_df"
   ]
  },
  {
   "cell_type": "code",
   "execution_count": 3,
   "metadata": {},
   "outputs": [],
   "source": [
    "def k_plot(X, y, kseries, cross_val_func, title):\n",
    "    \n",
    "    result = kseries.apply(\n",
    "        cross_val_func(X, y)\n",
    "    )\n",
    "    \n",
    "    print(\"Minimum error of {0:.3f} at k={1}\".format(result.min(), result.idxmin()))\n",
    "    \n",
    "    ax = result.plot(\n",
    "        kind=\"line\", title=title,\n",
    "        figsize=(10,6), color=\"red\"\n",
    "    )\n",
    "    \n",
    "    ax.set_xlabel(\"k\")\n",
    "    ax.set_ylabel(\"MAE\")\n",
    "    \n",
    "    return ax"
   ]
  },
  {
   "cell_type": "markdown",
   "metadata": {},
   "source": [
    "## K Nearest Neighbors"
   ]
  },
  {
   "cell_type": "code",
   "execution_count": 4,
   "metadata": {},
   "outputs": [],
   "source": [
    "import warnings\n",
    "warnings.filterwarnings(\"ignore\")\n",
    "\n",
    "def get_cross_val_error(X, y):\n",
    "    \n",
    "    def cross_val_error(k=30):\n",
    "        \n",
    "        vec = DictVectorizer(sparse=False)\n",
    "        scaler = StandardScaler()\n",
    "        model = KNeighborsRegressor(n_neighbors=k, metric=\"manhattan\")\n",
    "        \n",
    "        pipeline = Pipeline([(\"vectorizer\", vec), (\"scaler\", scaler), (\"fit\", model)])\n",
    "        \n",
    "        return np.mean(\n",
    "            -cross_val_score(pipeline, X.to_dict(orient=\"records\"), y, \n",
    "                             cv=4, scoring=\"neg_mean_absolute_error\"))\n",
    "   \n",
    "    return cross_val_error"
   ]
  },
  {
   "cell_type": "code",
   "execution_count": 5,
   "metadata": {},
   "outputs": [],
   "source": [
    "krange = range(1, 101, 1)\n",
    "kseries = pd.Series(\n",
    "    index=krange,\n",
    "    data=krange\n",
    ")"
   ]
  },
  {
   "cell_type": "code",
   "execution_count": 6,
   "metadata": {},
   "outputs": [
    {
     "name": "stdout",
     "output_type": "stream",
     "text": [
      "Minimum error of 175.328 at k=83\n"
     ]
    },
    {
     "data": {
      "image/png": "[encoded data removed]",
      "text/plain": [
       "<Figure size 720x432 with 1 Axes>"
      ]
     },
     "metadata": {
      "needs_background": "light"
     },
     "output_type": "display_data"
    }
   ],
   "source": [
    "ax = k_plot(crimes_df, y, kseries, get_cross_val_error, \"All Variables\")\n",
    "ax.get_figure().savefig(\"kNN_plot.jpeg\")"
   ]
  },
  {
   "cell_type": "code",
   "execution_count": 7,
   "metadata": {},
   "outputs": [
    {
     "name": "stdout",
     "output_type": "stream",
     "text": [
      "Minimum error of 173.893 at k=100\n"
     ]
    },
    {
     "data": {
      "image/png": "[encoded data removed]",
      "text/plain": [
       "<Figure size 720x432 with 1 Axes>"
      ]
     },
     "metadata": {
      "needs_background": "light"
     },
     "output_type": "display_data"
    }
   ],
   "source": [
    "k_plot(crimes_df[[\"Victim Age\"]], y, kseries, get_cross_val_error, \"Victim Age\");"
   ]
  },
  {
   "cell_type": "code",
   "execution_count": 8,
   "metadata": {},
   "outputs": [
    {
     "name": "stdout",
     "output_type": "stream",
     "text": [
      "Minimum error of 175.897 at k=97\n"
     ]
    },
    {
     "data": {
      "image/png": "[encoded data removed]",
      "text/plain": [
       "<Figure size 720x432 with 1 Axes>"
      ]
     },
     "metadata": {
      "needs_background": "light"
     },
     "output_type": "display_data"
    }
   ],
   "source": [
    "k_plot(crimes_df[[\"Time Occurred\"]], y, kseries, get_cross_val_error, \"Time Occurred\");"
   ]
  },
  {
   "cell_type": "code",
   "execution_count": 9,
   "metadata": {},
   "outputs": [
    {
     "ename": "KeyError",
     "evalue": "\"['Days to Report'] not in index\"",
     "output_type": "error",
     "traceback": [
      "\u001b[1;31m---------------------------------------------------------------------------\u001b[0m",
      "\u001b[1;31mKeyError\u001b[0m                                  Traceback (most recent call last)",
      "\u001b[1;32m<ipython-input-9-ed5d08bf9b2e>\u001b[0m in \u001b[0;36m<module>\u001b[1;34m\u001b[0m\n\u001b[1;32m----> 1\u001b[1;33m \u001b[0mk_plot\u001b[0m\u001b[1;33m(\u001b[0m\u001b[0mcrimes_df\u001b[0m\u001b[1;33m[\u001b[0m\u001b[1;33m[\u001b[0m\u001b[1;34m\"Days to Report\"\u001b[0m\u001b[1;33m]\u001b[0m\u001b[1;33m]\u001b[0m\u001b[1;33m,\u001b[0m \u001b[0my\u001b[0m\u001b[1;33m,\u001b[0m \u001b[0mkseries\u001b[0m\u001b[1;33m,\u001b[0m \u001b[0mget_cross_val_error\u001b[0m\u001b[1;33m,\u001b[0m \u001b[1;34m\"Time Occurred\"\u001b[0m\u001b[1;33m)\u001b[0m\u001b[1;33m;\u001b[0m\u001b[1;33m\u001b[0m\u001b[1;33m\u001b[0m\u001b[0m\n\u001b[0m",
      "\u001b[1;32m~\\Anaconda3\\lib\\site-packages\\pandas\\core\\frame.py\u001b[0m in \u001b[0;36m__getitem__\u001b[1;34m(self, key)\u001b[0m\n\u001b[0;32m   2680\u001b[0m         \u001b[1;32mif\u001b[0m \u001b[0misinstance\u001b[0m\u001b[1;33m(\u001b[0m\u001b[0mkey\u001b[0m\u001b[1;33m,\u001b[0m \u001b[1;33m(\u001b[0m\u001b[0mSeries\u001b[0m\u001b[1;33m,\u001b[0m \u001b[0mnp\u001b[0m\u001b[1;33m.\u001b[0m\u001b[0mndarray\u001b[0m\u001b[1;33m,\u001b[0m \u001b[0mIndex\u001b[0m\u001b[1;33m,\u001b[0m \u001b[0mlist\u001b[0m\u001b[1;33m)\u001b[0m\u001b[1;33m)\u001b[0m\u001b[1;33m:\u001b[0m\u001b[1;33m\u001b[0m\u001b[1;33m\u001b[0m\u001b[0m\n\u001b[0;32m   2681\u001b[0m             \u001b[1;31m# either boolean or fancy integer index\u001b[0m\u001b[1;33m\u001b[0m\u001b[1;33m\u001b[0m\u001b[1;33m\u001b[0m\u001b[0m\n\u001b[1;32m-> 2682\u001b[1;33m             \u001b[1;32mreturn\u001b[0m \u001b[0mself\u001b[0m\u001b[1;33m.\u001b[0m\u001b[0m_getitem_array\u001b[0m\u001b[1;33m(\u001b[0m\u001b[0mkey\u001b[0m\u001b[1;33m)\u001b[0m\u001b[1;33m\u001b[0m\u001b[1;33m\u001b[0m\u001b[0m\n\u001b[0m\u001b[0;32m   2683\u001b[0m         \u001b[1;32melif\u001b[0m \u001b[0misinstance\u001b[0m\u001b[1;33m(\u001b[0m\u001b[0mkey\u001b[0m\u001b[1;33m,\u001b[0m \u001b[0mDataFrame\u001b[0m\u001b[1;33m)\u001b[0m\u001b[1;33m:\u001b[0m\u001b[1;33m\u001b[0m\u001b[1;33m\u001b[0m\u001b[0m\n\u001b[0;32m   2684\u001b[0m             \u001b[1;32mreturn\u001b[0m \u001b[0mself\u001b[0m\u001b[1;33m.\u001b[0m\u001b[0m_getitem_frame\u001b[0m\u001b[1;33m(\u001b[0m\u001b[0mkey\u001b[0m\u001b[1;33m)\u001b[0m\u001b[1;33m\u001b[0m\u001b[1;33m\u001b[0m\u001b[0m\n",
      "\u001b[1;32m~\\Anaconda3\\lib\\site-packages\\pandas\\core\\frame.py\u001b[0m in \u001b[0;36m_getitem_array\u001b[1;34m(self, key)\u001b[0m\n\u001b[0;32m   2724\u001b[0m             \u001b[1;32mreturn\u001b[0m \u001b[0mself\u001b[0m\u001b[1;33m.\u001b[0m\u001b[0m_take\u001b[0m\u001b[1;33m(\u001b[0m\u001b[0mindexer\u001b[0m\u001b[1;33m,\u001b[0m \u001b[0maxis\u001b[0m\u001b[1;33m=\u001b[0m\u001b[1;36m0\u001b[0m\u001b[1;33m)\u001b[0m\u001b[1;33m\u001b[0m\u001b[1;33m\u001b[0m\u001b[0m\n\u001b[0;32m   2725\u001b[0m         \u001b[1;32melse\u001b[0m\u001b[1;33m:\u001b[0m\u001b[1;33m\u001b[0m\u001b[1;33m\u001b[0m\u001b[0m\n\u001b[1;32m-> 2726\u001b[1;33m             \u001b[0mindexer\u001b[0m \u001b[1;33m=\u001b[0m \u001b[0mself\u001b[0m\u001b[1;33m.\u001b[0m\u001b[0mloc\u001b[0m\u001b[1;33m.\u001b[0m\u001b[0m_convert_to_indexer\u001b[0m\u001b[1;33m(\u001b[0m\u001b[0mkey\u001b[0m\u001b[1;33m,\u001b[0m \u001b[0maxis\u001b[0m\u001b[1;33m=\u001b[0m\u001b[1;36m1\u001b[0m\u001b[1;33m)\u001b[0m\u001b[1;33m\u001b[0m\u001b[1;33m\u001b[0m\u001b[0m\n\u001b[0m\u001b[0;32m   2727\u001b[0m             \u001b[1;32mreturn\u001b[0m \u001b[0mself\u001b[0m\u001b[1;33m.\u001b[0m\u001b[0m_take\u001b[0m\u001b[1;33m(\u001b[0m\u001b[0mindexer\u001b[0m\u001b[1;33m,\u001b[0m \u001b[0maxis\u001b[0m\u001b[1;33m=\u001b[0m\u001b[1;36m1\u001b[0m\u001b[1;33m)\u001b[0m\u001b[1;33m\u001b[0m\u001b[1;33m\u001b[0m\u001b[0m\n\u001b[0;32m   2728\u001b[0m \u001b[1;33m\u001b[0m\u001b[0m\n",
      "\u001b[1;32m~\\Anaconda3\\lib\\site-packages\\pandas\\core\\indexing.py\u001b[0m in \u001b[0;36m_convert_to_indexer\u001b[1;34m(self, obj, axis, is_setter)\u001b[0m\n\u001b[0;32m   1325\u001b[0m                 \u001b[1;32mif\u001b[0m \u001b[0mmask\u001b[0m\u001b[1;33m.\u001b[0m\u001b[0many\u001b[0m\u001b[1;33m(\u001b[0m\u001b[1;33m)\u001b[0m\u001b[1;33m:\u001b[0m\u001b[1;33m\u001b[0m\u001b[1;33m\u001b[0m\u001b[0m\n\u001b[0;32m   1326\u001b[0m                     raise KeyError('{mask} not in index'\n\u001b[1;32m-> 1327\u001b[1;33m                                    .format(mask=objarr[mask]))\n\u001b[0m\u001b[0;32m   1328\u001b[0m \u001b[1;33m\u001b[0m\u001b[0m\n\u001b[0;32m   1329\u001b[0m                 \u001b[1;32mreturn\u001b[0m \u001b[0mcom\u001b[0m\u001b[1;33m.\u001b[0m\u001b[0m_values_from_object\u001b[0m\u001b[1;33m(\u001b[0m\u001b[0mindexer\u001b[0m\u001b[1;33m)\u001b[0m\u001b[1;33m\u001b[0m\u001b[1;33m\u001b[0m\u001b[0m\n",
      "\u001b[1;31mKeyError\u001b[0m: \"['Days to Report'] not in index\""
     ]
    }
   ],
   "source": [
    "k_plot(crimes_df[[\"Days To Report\"]], y, kseries, get_cross_val_error, \"Time Occurred\");"
   ]
  },
  {
   "cell_type": "code",
   "execution_count": null,
   "metadata": {},
   "outputs": [],
   "source": [
    "k_plot(crimes_df[[\"Location Lat\", \"Location Lng\"]], y, kseries, get_cross_val_error, \"Time Occurred\");"
   ]
  },
  {
   "cell_type": "markdown",
   "metadata": {},
   "source": [
    "## Random Forest Model"
   ]
  },
  {
   "cell_type": "code",
   "execution_count": null,
   "metadata": {},
   "outputs": [],
   "source": [
    "def get_cross_val_error_rf(X, y):\n",
    "    \n",
    "    def cross_val_error_rf(k=30):\n",
    "        \n",
    "        vec = DictVectorizer(sparse=False)\n",
    "        scaler = StandardScaler()\n",
    "        model = RandomForestRegressor(n_estimators=k)\n",
    "        \n",
    "        pipeline = Pipeline([(\"vectorizer\", vec), (\"scaler\", scaler), (\"fit\", model)])\n",
    "        \n",
    "        return np.mean(\n",
    "            -cross_val_score(pipeline, X.to_dict(orient=\"records\"), y, \n",
    "                             cv=4, scoring=\"neg_mean_absolute_error\"))\n",
    "   \n",
    "    return cross_val_error"
   ]
  },
  {
   "cell_type": "code",
   "execution_count": null,
   "metadata": {},
   "outputs": [],
   "source": [
    "est_range = range(1, 101, 1)\n",
    "\n",
    "est_series = pd.Series(\n",
    "    index=est_range,\n",
    "    data=est_range\n",
    ")"
   ]
  },
  {
   "cell_type": "code",
   "execution_count": null,
   "metadata": {},
   "outputs": [],
   "source": [
    "ax = k_plot(crimes_df, y, est_series, get_cross_val_error_rf, \"All Variables\")\n",
    "ax.get_figure().savefig(\"rf_plot.jpeg\")"
   ]
  }
 ],
 "metadata": {
  "kernelspec": {
   "display_name": "Python 3",
   "language": "python",
   "name": "python3"
  },
  "language_info": {
   "codemirror_mode": {
    "name": "ipython",
    "version": 3
   },
   "file_extension": ".py",
   "mimetype": "text/x-python",
   "name": "python",
   "nbconvert_exporter": "python",
   "pygments_lexer": "ipython3",
   "version": "3.7.1"
  }
 },
 "nbformat": 4,
 "nbformat_minor": 2
}
