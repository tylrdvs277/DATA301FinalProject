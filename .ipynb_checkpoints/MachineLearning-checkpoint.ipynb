{
 "cells": [
  {
   "cell_type": "code",
   "execution_count": 1,
   "metadata": {},
   "outputs": [],
   "source": [
    "# Import the libraries\n",
    "\n",
    "%matplotlib inline\n",
    "import pandas as pd\n",
    "pd.options.display.max_rows = 10\n",
    "\n",
    "import numpy as np\n",
    "import matplotlib.pyplot as plt\n",
    "\n",
    "from sklearn.feature_extraction import DictVectorizer\n",
    "from sklearn.preprocessing import StandardScaler\n",
    "from sklearn.neighbors import KNeighborsRegressor\n",
    "from sklearn.ensemble import RandomForestRegressor\n",
    "\n",
    "from sklearn.pipeline import Pipeline\n",
    "from sklearn.model_selection import cross_val_score"
   ]
  },
  {
   "cell_type": "code",
   "execution_count": 2,
   "metadata": {},
   "outputs": [
    {
     "data": {
      "text/html": [
       "<div>\n",
       "<style scoped>\n",
       "    .dataframe tbody tr th:only-of-type {\n",
       "        vertical-align: middle;\n",
       "    }\n",
       "\n",
       "    .dataframe tbody tr th {\n",
       "        vertical-align: top;\n",
       "    }\n",
       "\n",
       "    .dataframe thead th {\n",
       "        text-align: right;\n",
       "    }\n",
       "</style>\n",
       "<table border=\"1\" class=\"dataframe\">\n",
       "  <thead>\n",
       "    <tr style=\"text-align: right;\">\n",
       "      <th></th>\n",
       "      <th>Time Occurred</th>\n",
       "      <th>Victim Age</th>\n",
       "      <th>Day Occurred</th>\n",
       "      <th>Days To Report</th>\n",
       "      <th>Day of Year</th>\n",
       "      <th>Time of Day</th>\n",
       "      <th>Location Lat</th>\n",
       "      <th>Location Lng</th>\n",
       "    </tr>\n",
       "  </thead>\n",
       "  <tbody>\n",
       "    <tr>\n",
       "      <th>31885</th>\n",
       "      <td>2300</td>\n",
       "      <td>44.0</td>\n",
       "      <td>Wednesday</td>\n",
       "      <td>1</td>\n",
       "      <td>348</td>\n",
       "      <td>NIGHT</td>\n",
       "      <td>34.0067</td>\n",
       "      <td>-118.3515</td>\n",
       "    </tr>\n",
       "    <tr>\n",
       "      <th>180873</th>\n",
       "      <td>2215</td>\n",
       "      <td>0.0</td>\n",
       "      <td>Wednesday</td>\n",
       "      <td>1</td>\n",
       "      <td>33</td>\n",
       "      <td>NIGHT</td>\n",
       "      <td>34.2179</td>\n",
       "      <td>-118.4317</td>\n",
       "    </tr>\n",
       "    <tr>\n",
       "      <th>172289</th>\n",
       "      <td>2200</td>\n",
       "      <td>61.0</td>\n",
       "      <td>Thursday</td>\n",
       "      <td>1</td>\n",
       "      <td>118</td>\n",
       "      <td>NIGHT</td>\n",
       "      <td>33.9493</td>\n",
       "      <td>-118.2652</td>\n",
       "    </tr>\n",
       "    <tr>\n",
       "      <th>23060</th>\n",
       "      <td>1800</td>\n",
       "      <td>25.0</td>\n",
       "      <td>Sunday</td>\n",
       "      <td>1</td>\n",
       "      <td>114</td>\n",
       "      <td>DAY</td>\n",
       "      <td>34.0309</td>\n",
       "      <td>-118.2974</td>\n",
       "    </tr>\n",
       "    <tr>\n",
       "      <th>19819</th>\n",
       "      <td>1530</td>\n",
       "      <td>42.0</td>\n",
       "      <td>Friday</td>\n",
       "      <td>0</td>\n",
       "      <td>21</td>\n",
       "      <td>DAY</td>\n",
       "      <td>34.0216</td>\n",
       "      <td>-118.3556</td>\n",
       "    </tr>\n",
       "    <tr>\n",
       "      <th>...</th>\n",
       "      <td>...</td>\n",
       "      <td>...</td>\n",
       "      <td>...</td>\n",
       "      <td>...</td>\n",
       "      <td>...</td>\n",
       "      <td>...</td>\n",
       "      <td>...</td>\n",
       "      <td>...</td>\n",
       "    </tr>\n",
       "    <tr>\n",
       "      <th>163158</th>\n",
       "      <td>1200</td>\n",
       "      <td>0.0</td>\n",
       "      <td>Thursday</td>\n",
       "      <td>46</td>\n",
       "      <td>90</td>\n",
       "      <td>DAY</td>\n",
       "      <td>34.2373</td>\n",
       "      <td>-118.5623</td>\n",
       "    </tr>\n",
       "    <tr>\n",
       "      <th>201970</th>\n",
       "      <td>659</td>\n",
       "      <td>0.0</td>\n",
       "      <td>Friday</td>\n",
       "      <td>0</td>\n",
       "      <td>84</td>\n",
       "      <td>DAY</td>\n",
       "      <td>34.2234</td>\n",
       "      <td>-118.5932</td>\n",
       "    </tr>\n",
       "    <tr>\n",
       "      <th>139634</th>\n",
       "      <td>258</td>\n",
       "      <td>0.0</td>\n",
       "      <td>Tuesday</td>\n",
       "      <td>0</td>\n",
       "      <td>326</td>\n",
       "      <td>NIGHT</td>\n",
       "      <td>33.9471</td>\n",
       "      <td>-118.3758</td>\n",
       "    </tr>\n",
       "    <tr>\n",
       "      <th>92639</th>\n",
       "      <td>1551</td>\n",
       "      <td>9.0</td>\n",
       "      <td>Tuesday</td>\n",
       "      <td>0</td>\n",
       "      <td>291</td>\n",
       "      <td>DAY</td>\n",
       "      <td>34.2012</td>\n",
       "      <td>-118.4815</td>\n",
       "    </tr>\n",
       "    <tr>\n",
       "      <th>13995</th>\n",
       "      <td>1100</td>\n",
       "      <td>0.0</td>\n",
       "      <td>Wednesday</td>\n",
       "      <td>2</td>\n",
       "      <td>145</td>\n",
       "      <td>DAY</td>\n",
       "      <td>34.0535</td>\n",
       "      <td>-118.2609</td>\n",
       "    </tr>\n",
       "  </tbody>\n",
       "</table>\n",
       "<p>32555 rows × 8 columns</p>\n",
       "</div>"
      ],
      "text/plain": [
       "        Time Occurred  Victim Age Day Occurred  Days To Report  Day of Year  \\\n",
       "31885            2300        44.0    Wednesday               1          348   \n",
       "180873           2215         0.0    Wednesday               1           33   \n",
       "172289           2200        61.0     Thursday               1          118   \n",
       "23060            1800        25.0       Sunday               1          114   \n",
       "19819            1530        42.0       Friday               0           21   \n",
       "...               ...         ...          ...             ...          ...   \n",
       "163158           1200         0.0     Thursday              46           90   \n",
       "201970            659         0.0       Friday               0           84   \n",
       "139634            258         0.0      Tuesday               0          326   \n",
       "92639            1551         9.0      Tuesday               0          291   \n",
       "13995            1100         0.0    Wednesday               2          145   \n",
       "\n",
       "       Time of Day  Location Lat  Location Lng  \n",
       "31885        NIGHT       34.0067     -118.3515  \n",
       "180873       NIGHT       34.2179     -118.4317  \n",
       "172289       NIGHT       33.9493     -118.2652  \n",
       "23060          DAY       34.0309     -118.2974  \n",
       "19819          DAY       34.0216     -118.3556  \n",
       "...            ...           ...           ...  \n",
       "163158         DAY       34.2373     -118.5623  \n",
       "201970         DAY       34.2234     -118.5932  \n",
       "139634       NIGHT       33.9471     -118.3758  \n",
       "92639          DAY       34.2012     -118.4815  \n",
       "13995          DAY       34.0535     -118.2609  \n",
       "\n",
       "[32555 rows x 8 columns]"
      ]
     },
     "execution_count": 2,
     "metadata": {},
     "output_type": "execute_result"
    }
   ],
   "source": [
    "crimes_df = pd.read_csv(\"crime_data_edited.csv\")\n",
    "\n",
    "crimes_df = crimes_df.sample(frac=0.15)\n",
    "\n",
    "y = crimes_df[\"Crime Code\"]\n",
    "crimes_df.drop(\"Crime Code\", axis=1, inplace=True)\n",
    "\n",
    "crimes_df"
   ]
  },
  {
   "cell_type": "code",
   "execution_count": 3,
   "metadata": {},
   "outputs": [],
   "source": [
    "def k_plot(X, y, kseries, cross_val_func, title):\n",
    "    \n",
    "    result = kseries.apply(\n",
    "        cross_val_func(X, y)\n",
    "    )\n",
    "    \n",
    "    print(\"Minimum error of {0:.3f} at k={1}\".format(result.min(), result.idxmin()))\n",
    "    \n",
    "    ax = result.plot(\n",
    "        kind=\"line\", title=title,\n",
    "        figsize=(10,6), color=\"red\"\n",
    "    )\n",
    "    \n",
    "    ax.set_xlabel(\"k\")\n",
    "    ax.set_ylabel(\"MAE\")\n",
    "    \n",
    "    return ax"
   ]
  },
  {
   "cell_type": "markdown",
   "metadata": {},
   "source": [
    "## K Nearest Neighbors"
   ]
  },
  {
   "cell_type": "code",
   "execution_count": 4,
   "metadata": {},
   "outputs": [],
   "source": [
    "import warnings\n",
    "warnings.filterwarnings(\"ignore\")\n",
    "\n",
    "def get_cross_val_error(X, y):\n",
    "    \n",
    "    def cross_val_error(k=30):\n",
    "        \n",
    "        vec = DictVectorizer(sparse=False)\n",
    "        scaler = StandardScaler()\n",
    "        model = KNeighborsRegressor(n_neighbors=k, metric=\"manhattan\")\n",
    "        \n",
    "        pipeline = Pipeline([(\"vectorizer\", vec), (\"scaler\", scaler), (\"fit\", model)])\n",
    "        \n",
    "        return np.mean(\n",
    "            -cross_val_score(pipeline, X.to_dict(orient=\"records\"), y, \n",
    "                             cv=4, scoring=\"neg_mean_absolute_error\"))\n",
    "   \n",
    "    return cross_val_error"
   ]
  },
  {
   "cell_type": "code",
   "execution_count": 5,
   "metadata": {},
   "outputs": [],
   "source": [
    "krange = range(1, 101, 4)\n",
    "kseries = pd.Series(\n",
    "    index=krange,\n",
    "    data=krange\n",
    ")"
   ]
  },
  {
   "cell_type": "code",
   "execution_count": 6,
   "metadata": {},
   "outputs": [
    {
     "name": "stdout",
     "output_type": "stream",
     "text": [
      "Minimum error of 177.399 at k=97\n"
     ]
    },
    {
     "data": {
      "image/png": "[encoded data removed]",
      "text/plain": [
       "<Figure size 720x432 with 1 Axes>"
      ]
     },
     "metadata": {
      "needs_background": "light"
     },
     "output_type": "display_data"
    }
   ],
   "source": [
    "ax = k_plot(crimes_df, y, kseries, get_cross_val_error, \"All Variables\")\n",
    "ax.get_figure().savefig(\"kNN_plot.jpeg\")"
   ]
  },
  {
   "cell_type": "code",
   "execution_count": 7,
   "metadata": {},
   "outputs": [
    {
     "name": "stdout",
     "output_type": "stream",
     "text": [
      "Minimum error of 175.813 at k=93\n"
     ]
    },
    {
     "data": {
      "image/png": "[encoded data removed]",
      "text/plain": [
       "<Figure size 720x432 with 1 Axes>"
      ]
     },
     "metadata": {
      "needs_background": "light"
     },
     "output_type": "display_data"
    }
   ],
   "source": [
    "k_plot(crimes_df[[\"Victim Age\"]], y, kseries, get_cross_val_error, \"Victim Age\");"
   ]
  },
  {
   "cell_type": "code",
   "execution_count": 8,
   "metadata": {},
   "outputs": [
    {
     "name": "stdout",
     "output_type": "stream",
     "text": [
      "Minimum error of 177.159 at k=97\n"
     ]
    },
    {
     "data": {
      "image/png": "[encoded data removed]",
      "text/plain": [
       "<Figure size 720x432 with 1 Axes>"
      ]
     },
     "metadata": {
      "needs_background": "light"
     },
     "output_type": "display_data"
    }
   ],
   "source": [
    "k_plot(crimes_df[[\"Time Occurred\"]], y, kseries, get_cross_val_error, \"Time Occurred\");"
   ]
  },
  {
   "cell_type": "code",
   "execution_count": 9,
   "metadata": {},
   "outputs": [
    {
     "name": "stdout",
     "output_type": "stream",
     "text": [
      "Minimum error of 176.840 at k=69\n"
     ]
    },
    {
     "data": {
      "image/png": "[encoded data removed]",
      "text/plain": [
       "<Figure size 720x432 with 1 Axes>"
      ]
     },
     "metadata": {
      "needs_background": "light"
     },
     "output_type": "display_data"
    }
   ],
   "source": [
    "k_plot(crimes_df[[\"Days To Report\"]], y, kseries, get_cross_val_error, \"Time Occurred\");"
   ]
  },
  {
   "cell_type": "code",
   "execution_count": 10,
   "metadata": {},
   "outputs": [
    {
     "name": "stdout",
     "output_type": "stream",
     "text": [
      "Minimum error of 176.514 at k=81\n"
     ]
    },
    {
     "data": {
      "image/png": "[encoded data removed]",
      "text/plain": [
       "<Figure size 720x432 with 1 Axes>"
      ]
     },
     "metadata": {
      "needs_background": "light"
     },
     "output_type": "display_data"
    }
   ],
   "source": [
    "k_plot(crimes_df[[\"Location Lat\", \"Location Lng\"]], y, kseries, get_cross_val_error, \"Time Occurred\");"
   ]
  },
  {
   "cell_type": "markdown",
   "metadata": {},
   "source": [
    "The results of the k nearest neighbors model reflects the lack of coherence we saw when visualizing the data. The mean absolute error when using all features is ~177. The city of LA scores crime severity from about 100 to 1000. Thus, an error of 170 suggests these features are not strong perdicts of crime severity. Furthermore, none of the individual features were strong indicators with mean absolute errors also close to 170."
   ]
  },
  {
   "cell_type": "markdown",
   "metadata": {},
   "source": [
    "## Random Forest Model"
   ]
  },
  {
   "cell_type": "code",
   "execution_count": 11,
   "metadata": {},
   "outputs": [],
   "source": [
    "def get_cross_val_error_rf(X, y):\n",
    "    \n",
    "    def cross_val_error_rf(k=30):\n",
    "        \n",
    "        vec = DictVectorizer(sparse=False)\n",
    "        scaler = StandardScaler()\n",
    "        model = RandomForestRegressor(n_estimators=k)\n",
    "        \n",
    "        pipeline = Pipeline([(\"vectorizer\", vec), (\"scaler\", scaler), (\"fit\", model)])\n",
    "        \n",
    "        return np.mean(\n",
    "            -cross_val_score(pipeline, X.to_dict(orient=\"records\"), y, \n",
    "                             cv=4, scoring=\"neg_mean_absolute_error\"))\n",
    "   \n",
    "    return cross_val_error_rf"
   ]
  },
  {
   "cell_type": "code",
   "execution_count": 12,
   "metadata": {},
   "outputs": [],
   "source": [
    "est_range = range(1, 101, 6)\n",
    "\n",
    "est_series = pd.Series(\n",
    "    index=est_range,\n",
    "    data=est_range\n",
    ")"
   ]
  },
  {
   "cell_type": "code",
   "execution_count": 13,
   "metadata": {},
   "outputs": [
    {
     "name": "stdout",
     "output_type": "stream",
     "text": [
      "Minimum error of 172.403 at k=97\n"
     ]
    },
    {
     "data": {
      "image/png": "[encoded data removed]",
      "text/plain": [
       "<Figure size 720x432 with 1 Axes>"
      ]
     },
     "metadata": {
      "needs_background": "light"
     },
     "output_type": "display_data"
    }
   ],
   "source": [
    "ax = k_plot(crimes_df, y, est_series, get_cross_val_error_rf, \"All Variables\")\n",
    "ax.get_figure().savefig(\"rf_plot.jpeg\")"
   ]
  }
 ],
 "metadata": {
  "kernelspec": {
   "display_name": "Python 3",
   "language": "python",
   "name": "python3"
  },
  "language_info": {
   "codemirror_mode": {
    "name": "ipython",
    "version": 3
   },
   "file_extension": ".py",
   "mimetype": "text/x-python",
   "name": "python",
   "nbconvert_exporter": "python",
   "pygments_lexer": "ipython3",
   "version": "3.7.1"
  }
 },
 "nbformat": 4,
 "nbformat_minor": 2
}
