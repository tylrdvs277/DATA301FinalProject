{
 "cells": [
  {
   "cell_type": "code",
   "execution_count": 1,
   "metadata": {},
   "outputs": [],
   "source": [
    "import pandas as pd\n",
    "import requests"
   ]
  },
  {
   "cell_type": "markdown",
   "metadata": {},
   "source": [
    "# Analysis of Crime in Los Angeles\n",
    "\n",
    "<img src=\"Images/crime.jpg\" width=\"500\"/>"
   ]
  },
  {
   "cell_type": "markdown",
   "metadata": {},
   "source": [
    "## Research Question\n",
    "\n",
    "Can we accurately predict the severity of a crime based on time (primarily), location, and victim age?"
   ]
  },
  {
   "cell_type": "markdown",
   "metadata": {},
   "source": [
    "## Getting Data\n",
    "\n",
    "- LA crime data 2010 to Present (downloaded csv from data.lacity.org)\n",
    "- Sunrise and sunset data (JSON pulled from api.sunrise-sunset.org)\n"
   ]
  },
  {
   "cell_type": "code",
   "execution_count": 2,
   "metadata": {},
   "outputs": [
    {
     "data": {
      "text/html": [
       "<div>\n",
       "<style scoped>\n",
       "    .dataframe tbody tr th:only-of-type {\n",
       "        vertical-align: middle;\n",
       "    }\n",
       "\n",
       "    .dataframe tbody tr th {\n",
       "        vertical-align: top;\n",
       "    }\n",
       "\n",
       "    .dataframe thead th {\n",
       "        text-align: right;\n",
       "    }\n",
       "</style>\n",
       "<table border=\"1\" class=\"dataframe\">\n",
       "  <thead>\n",
       "    <tr style=\"text-align: right;\">\n",
       "      <th></th>\n",
       "      <th>DR Number</th>\n",
       "      <th>Date Reported</th>\n",
       "      <th>Date Occurred</th>\n",
       "      <th>Time Occurred</th>\n",
       "      <th>Area ID</th>\n",
       "      <th>Area Name</th>\n",
       "      <th>Reporting District</th>\n",
       "      <th>Crime Code</th>\n",
       "      <th>Crime Code Description</th>\n",
       "      <th>MO Codes</th>\n",
       "      <th>...</th>\n",
       "      <th>Weapon Description</th>\n",
       "      <th>Status Code</th>\n",
       "      <th>Status Description</th>\n",
       "      <th>Crime Code 1</th>\n",
       "      <th>Crime Code 2</th>\n",
       "      <th>Crime Code 3</th>\n",
       "      <th>Crime Code 4</th>\n",
       "      <th>Address</th>\n",
       "      <th>Cross Street</th>\n",
       "      <th>Location</th>\n",
       "    </tr>\n",
       "  </thead>\n",
       "  <tbody>\n",
       "    <tr>\n",
       "      <th>0</th>\n",
       "      <td>151521112</td>\n",
       "      <td>11/04/2015</td>\n",
       "      <td>11/03/2015</td>\n",
       "      <td>2230</td>\n",
       "      <td>NaN</td>\n",
       "      <td>N Hollywood</td>\n",
       "      <td>1555.0</td>\n",
       "      <td>330.0</td>\n",
       "      <td>BURGLARY FROM VEHICLE</td>\n",
       "      <td>0344</td>\n",
       "      <td>...</td>\n",
       "      <td>NaN</td>\n",
       "      <td>IC</td>\n",
       "      <td>Invest Cont</td>\n",
       "      <td>330.0</td>\n",
       "      <td>NaN</td>\n",
       "      <td>NaN</td>\n",
       "      <td>NaN</td>\n",
       "      <td>11100    CAMARILLO                    ST</td>\n",
       "      <td>NaN</td>\n",
       "      <td>(34.1577, -118.3727)</td>\n",
       "    </tr>\n",
       "    <tr>\n",
       "      <th>1</th>\n",
       "      <td>151521113</td>\n",
       "      <td>11/04/2015</td>\n",
       "      <td>10/30/2015</td>\n",
       "      <td>200</td>\n",
       "      <td>NaN</td>\n",
       "      <td>N Hollywood</td>\n",
       "      <td>1548.0</td>\n",
       "      <td>330.0</td>\n",
       "      <td>BURGLARY FROM VEHICLE</td>\n",
       "      <td>0344 1609 1307</td>\n",
       "      <td>...</td>\n",
       "      <td>NaN</td>\n",
       "      <td>IC</td>\n",
       "      <td>Invest Cont</td>\n",
       "      <td>330.0</td>\n",
       "      <td>NaN</td>\n",
       "      <td>NaN</td>\n",
       "      <td>NaN</td>\n",
       "      <td>11100    CHANDLER                     BL</td>\n",
       "      <td>NaN</td>\n",
       "      <td>(34.1681, -118.3724)</td>\n",
       "    </tr>\n",
       "    <tr>\n",
       "      <th>2</th>\n",
       "      <td>151521117</td>\n",
       "      <td>11/04/2015</td>\n",
       "      <td>11/04/2015</td>\n",
       "      <td>1400</td>\n",
       "      <td>NaN</td>\n",
       "      <td>N Hollywood</td>\n",
       "      <td>1506.0</td>\n",
       "      <td>930.0</td>\n",
       "      <td>CRIMINAL THREATS - NO WEAPON DISPLAYED</td>\n",
       "      <td>0421</td>\n",
       "      <td>...</td>\n",
       "      <td>VERBAL THREAT</td>\n",
       "      <td>JA</td>\n",
       "      <td>Juv Arrest</td>\n",
       "      <td>930.0</td>\n",
       "      <td>NaN</td>\n",
       "      <td>NaN</td>\n",
       "      <td>NaN</td>\n",
       "      <td>7300    BAKMAN                       AV</td>\n",
       "      <td>NaN</td>\n",
       "      <td>(34.203, -118.3779)</td>\n",
       "    </tr>\n",
       "  </tbody>\n",
       "</table>\n",
       "<p>3 rows × 26 columns</p>\n",
       "</div>"
      ],
      "text/plain": [
       "   DR Number Date Reported Date Occurred  Time Occurred  Area ID    Area Name  \\\n",
       "0  151521112    11/04/2015    11/03/2015           2230      NaN  N Hollywood   \n",
       "1  151521113    11/04/2015    10/30/2015            200      NaN  N Hollywood   \n",
       "2  151521117    11/04/2015    11/04/2015           1400      NaN  N Hollywood   \n",
       "\n",
       "   Reporting District  Crime Code                  Crime Code Description  \\\n",
       "0              1555.0       330.0                   BURGLARY FROM VEHICLE   \n",
       "1              1548.0       330.0                   BURGLARY FROM VEHICLE   \n",
       "2              1506.0       930.0  CRIMINAL THREATS - NO WEAPON DISPLAYED   \n",
       "\n",
       "         MO Codes          ...           Weapon Description Status Code  \\\n",
       "0            0344          ...                          NaN          IC   \n",
       "1  0344 1609 1307          ...                          NaN          IC   \n",
       "2            0421          ...                VERBAL THREAT          JA   \n",
       "\n",
       "  Status Description  Crime Code 1 Crime Code 2  Crime Code 3 Crime Code 4  \\\n",
       "0        Invest Cont         330.0          NaN           NaN          NaN   \n",
       "1        Invest Cont         330.0          NaN           NaN          NaN   \n",
       "2         Juv Arrest         930.0          NaN           NaN          NaN   \n",
       "\n",
       "                                    Address Cross Street             Location   \n",
       "0  11100    CAMARILLO                    ST          NaN  (34.1577, -118.3727)  \n",
       "1  11100    CHANDLER                     BL          NaN  (34.1681, -118.3724)  \n",
       "2   7300    BAKMAN                       AV          NaN   (34.203, -118.3779)  \n",
       "\n",
       "[3 rows x 26 columns]"
      ]
     },
     "execution_count": 2,
     "metadata": {},
     "output_type": "execute_result"
    }
   ],
   "source": [
    "pd.read_csv(\"crime_data.csv\").head(3)"
   ]
  },
  {
   "cell_type": "code",
   "execution_count": 3,
   "metadata": {},
   "outputs": [
    {
     "data": {
      "text/plain": [
       "{'results': {'sunrise': '2019-03-18T13:58:26+00:00',\n",
       "  'sunset': '2019-03-19T02:03:16+00:00',\n",
       "  'solar_noon': '2019-03-18T20:00:51+00:00',\n",
       "  'day_length': 43490,\n",
       "  'civil_twilight_begin': '2019-03-18T13:33:33+00:00',\n",
       "  'civil_twilight_end': '2019-03-19T02:28:09+00:00',\n",
       "  'nautical_twilight_begin': '2019-03-18T13:04:27+00:00',\n",
       "  'nautical_twilight_end': '2019-03-19T02:57:16+00:00',\n",
       "  'astronomical_twilight_begin': '2019-03-18T12:35:03+00:00',\n",
       "  'astronomical_twilight_end': '2019-03-19T03:26:40+00:00'},\n",
       " 'status': 'OK'}"
      ]
     },
     "execution_count": 3,
     "metadata": {},
     "output_type": "execute_result"
    }
   ],
   "source": [
    "requests.get(\n",
    "    \"https://api.sunrise-sunset.org/json?lat=34.073851&lng=-118.242147&date=2019-03-18&formatted=0\"\n",
    ").json()"
   ]
  },
  {
   "cell_type": "markdown",
   "metadata": {},
   "source": [
    "## Cleaning Data\n",
    "\n",
    "Filtering:\n",
    "- Keep only data from 2016\n",
    "\n",
    "Mapping:\n",
    "- Converting sunrise times from IS0 8601 UTC to 24 hour PST\n",
    "- Convert the day the crime occurred to a day of the week (Sunday - Saturday)\n",
    "- Convert the day the crime occurred to a day of the year (0 - 365)\n",
    "\n",
    "Computed Values:\n",
    "- Calculated the days until the crime was reported from date occurred and date reported\n",
    "\n",
    "Conversion:\n",
    "- Converted location into two columns of latitude and longitude\n",
    "\n",
    "Merging:\n",
    "- Used the sunrise/sunset data to determine the time of day (DAY/NIGHT)"
   ]
  },
  {
   "cell_type": "code",
   "execution_count": 4,
   "metadata": {},
   "outputs": [
    {
     "data": {
      "text/html": [
       "<div>\n",
       "<style scoped>\n",
       "    .dataframe tbody tr th:only-of-type {\n",
       "        vertical-align: middle;\n",
       "    }\n",
       "\n",
       "    .dataframe tbody tr th {\n",
       "        vertical-align: top;\n",
       "    }\n",
       "\n",
       "    .dataframe thead th {\n",
       "        text-align: right;\n",
       "    }\n",
       "</style>\n",
       "<table border=\"1\" class=\"dataframe\">\n",
       "  <thead>\n",
       "    <tr style=\"text-align: right;\">\n",
       "      <th></th>\n",
       "      <th>date</th>\n",
       "      <th>sunrise</th>\n",
       "      <th>sunset</th>\n",
       "    </tr>\n",
       "  </thead>\n",
       "  <tbody>\n",
       "    <tr>\n",
       "      <th>0</th>\n",
       "      <td>01/01/2016</td>\n",
       "      <td>658</td>\n",
       "      <td>1654</td>\n",
       "    </tr>\n",
       "    <tr>\n",
       "      <th>1</th>\n",
       "      <td>01/02/2016</td>\n",
       "      <td>658</td>\n",
       "      <td>1655</td>\n",
       "    </tr>\n",
       "    <tr>\n",
       "      <th>2</th>\n",
       "      <td>01/03/2016</td>\n",
       "      <td>658</td>\n",
       "      <td>1656</td>\n",
       "    </tr>\n",
       "  </tbody>\n",
       "</table>\n",
       "</div>"
      ],
      "text/plain": [
       "         date  sunrise  sunset\n",
       "0  01/01/2016      658    1654\n",
       "1  01/02/2016      658    1655\n",
       "2  01/03/2016      658    1656"
      ]
     },
     "execution_count": 4,
     "metadata": {},
     "output_type": "execute_result"
    }
   ],
   "source": [
    "pd.read_csv(\"sunset_data.csv\").head(3)"
   ]
  },
  {
   "cell_type": "code",
   "execution_count": 5,
   "metadata": {},
   "outputs": [
    {
     "data": {
      "text/html": [
       "<div>\n",
       "<style scoped>\n",
       "    .dataframe tbody tr th:only-of-type {\n",
       "        vertical-align: middle;\n",
       "    }\n",
       "\n",
       "    .dataframe tbody tr th {\n",
       "        vertical-align: top;\n",
       "    }\n",
       "\n",
       "    .dataframe thead th {\n",
       "        text-align: right;\n",
       "    }\n",
       "</style>\n",
       "<table border=\"1\" class=\"dataframe\">\n",
       "  <thead>\n",
       "    <tr style=\"text-align: right;\">\n",
       "      <th></th>\n",
       "      <th>Time Occurred</th>\n",
       "      <th>Crime Code</th>\n",
       "      <th>Victim Age</th>\n",
       "      <th>Day Occurred</th>\n",
       "      <th>Days To Report</th>\n",
       "      <th>Day of Year</th>\n",
       "      <th>Time of Day</th>\n",
       "      <th>Location Lat</th>\n",
       "      <th>Location Lng</th>\n",
       "    </tr>\n",
       "  </thead>\n",
       "  <tbody>\n",
       "    <tr>\n",
       "      <th>0</th>\n",
       "      <td>230</td>\n",
       "      <td>626.0</td>\n",
       "      <td>25.0</td>\n",
       "      <td>Monday</td>\n",
       "      <td>0</td>\n",
       "      <td>150</td>\n",
       "      <td>NIGHT</td>\n",
       "      <td>34.0426</td>\n",
       "      <td>-118.2814</td>\n",
       "    </tr>\n",
       "    <tr>\n",
       "      <th>1</th>\n",
       "      <td>1845</td>\n",
       "      <td>626.0</td>\n",
       "      <td>41.0</td>\n",
       "      <td>Sunday</td>\n",
       "      <td>1</td>\n",
       "      <td>149</td>\n",
       "      <td>DAY</td>\n",
       "      <td>34.0698</td>\n",
       "      <td>-118.2528</td>\n",
       "    </tr>\n",
       "    <tr>\n",
       "      <th>2</th>\n",
       "      <td>1700</td>\n",
       "      <td>900.0</td>\n",
       "      <td>24.0</td>\n",
       "      <td>Sunday</td>\n",
       "      <td>1</td>\n",
       "      <td>149</td>\n",
       "      <td>DAY</td>\n",
       "      <td>34.0586</td>\n",
       "      <td>-118.2691</td>\n",
       "    </tr>\n",
       "  </tbody>\n",
       "</table>\n",
       "</div>"
      ],
      "text/plain": [
       "   Time Occurred  Crime Code  Victim Age Day Occurred  Days To Report  \\\n",
       "0            230       626.0        25.0       Monday               0   \n",
       "1           1845       626.0        41.0       Sunday               1   \n",
       "2           1700       900.0        24.0       Sunday               1   \n",
       "\n",
       "   Day of Year Time of Day  Location Lat  Location Lng  \n",
       "0          150       NIGHT       34.0426     -118.2814  \n",
       "1          149         DAY       34.0698     -118.2528  \n",
       "2          149         DAY       34.0586     -118.2691  "
      ]
     },
     "execution_count": 5,
     "metadata": {},
     "output_type": "execute_result"
    }
   ],
   "source": [
    "pd.read_csv(\"crime_data_edited.csv\").head(3)"
   ]
  },
  {
   "cell_type": "markdown",
   "metadata": {},
   "source": [
    "## Exploring Data\n",
    "\n",
    "Three factors and their effect on severity:\n",
    "- Day of the week\n",
    "- Time of day\n",
    "- Days to report"
   ]
  },
  {
   "cell_type": "markdown",
   "metadata": {},
   "source": [
    "### Crime Severity by Day of the Week"
   ]
  },
  {
   "cell_type": "markdown",
   "metadata": {},
   "source": [
    "<img src=\"Images/severity_day.jpeg\" width=\"500\"/>"
   ]
  },
  {
   "cell_type": "markdown",
   "metadata": {},
   "source": [
    "<img src=\"Images/severity_day_expand.jpeg\" width=\"1000\"/>"
   ]
  },
  {
   "cell_type": "markdown",
   "metadata": {},
   "source": [
    "*The overall average crime severity remained consistent throughout each day of the week. The average crime severity was a crime code around 500 which is about in the middle of the scale 110-957. The distribution of crime codes per day did not change much but it there is a noticeable decrease in crime on Saturday and Sunday, and Friday has the most, specifically more sever crimes than other days.*"
   ]
  },
  {
   "cell_type": "markdown",
   "metadata": {},
   "source": [
    "### Crime Severity by Time of Day"
   ]
  },
  {
   "cell_type": "markdown",
   "metadata": {},
   "source": [
    "<img src=\"Images/severity_time.jpeg\" width=\"500\"/>"
   ]
  },
  {
   "cell_type": "markdown",
   "metadata": {},
   "source": [
    "*Here yellow represents \"day\", the time between sunrise and sunset, and the blue represents \"night\". The crime severity is not noticeably different at day or night, staying relatively consistent throughout the whole day.*"
   ]
  },
  {
   "cell_type": "markdown",
   "metadata": {},
   "source": [
    "<img src=\"Images/day_night_dist.jpeg\" width=\"1000\"/>"
   ]
  },
  {
   "cell_type": "markdown",
   "metadata": {},
   "source": [
    "*We can see that there were more crimes in the crime code range 300-400 for both night and day. One noticabel difference is the increase in crimes between codes 400-500 during the night. Also, the bump at the low end (below ~300) gives credence to the perception that more violent crimes occur at night.*"
   ]
  },
  {
   "cell_type": "markdown",
   "metadata": {},
   "source": [
    "### Days to Report by Victim Age and Crime Severity"
   ]
  },
  {
   "cell_type": "markdown",
   "metadata": {},
   "source": [
    "<img src=\"Images/age_to_report.jpeg\" width=\"500\"/>"
   ]
  },
  {
   "cell_type": "markdown",
   "metadata": {},
   "source": [
    "*The majority of crimes were reported fairly soon after occurance, and there doesn't seem to be aclsoe rleationship between age, days to report, and crime severity.*"
   ]
  },
  {
   "cell_type": "markdown",
   "metadata": {},
   "source": [
    "## Machine Learning\n",
    "\n",
    "We used both a k nearest neighbors model that we used in class and a random forest model mentioned after the Kaggle competition."
   ]
  },
  {
   "cell_type": "markdown",
   "metadata": {},
   "source": [
    "### K Nearest Neighbors\n",
    "\n",
    "<img src=\"Images/kNN_plot.jpeg\" width=\"500\"/>\n",
    "\n",
    "Minimum error of 177.399 at k=97"
   ]
  },
  {
   "cell_type": "markdown",
   "metadata": {},
   "source": [
    "### Random Forest\n",
    "\n",
    "<img src=\"Images/rf_plot.jpeg\" width=\"500\"/>\n",
    "\n",
    "Minimum error of 172.403 at k=97"
   ]
  },
  {
   "cell_type": "markdown",
   "metadata": {},
   "source": [
    "## Conclusion\n",
    "\n",
    "**Crime is complicated and predicted the severity of a crime based on predominantly time data is difficult. Even including factors such as location and victim details does not make the predictions bigger. A more extensive data set may be neccessary to more accurately model crime.**"
   ]
  },
  {
   "cell_type": "markdown",
   "metadata": {},
   "source": [
    "## Questions?"
   ]
  }
 ],
 "metadata": {
  "kernelspec": {
   "display_name": "Python 3",
   "language": "python",
   "name": "python3"
  },
  "language_info": {
   "codemirror_mode": {
    "name": "ipython",
    "version": 3
   },
   "file_extension": ".py",
   "mimetype": "text/x-python",
   "name": "python",
   "nbconvert_exporter": "python",
   "pygments_lexer": "ipython3",
   "version": "3.7.1"
  }
 },
 "nbformat": 4,
 "nbformat_minor": 2
}
