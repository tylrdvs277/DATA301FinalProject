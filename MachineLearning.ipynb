{
 "cells": [
  {
   "cell_type": "code",
   "execution_count": 1,
   "metadata": {},
   "outputs": [],
   "source": [
    "# Import the libraries\n",
    "\n",
    "%matplotlib inline\n",
    "import pandas as pd\n",
    "pd.options.display.max_rows = 10\n",
    "\n",
    "import numpy as np\n",
    "import matplotlib.pyplot as plt\n",
    "\n",
    "from sklearn.feature_extraction import DictVectorizer\n",
    "from sklearn.preprocessing import StandardScaler\n",
    "from sklearn.neighbors import KNeighborsRegressor\n",
    "from sklearn.ensemble import RandomForestRegressor\n",
    "\n",
    "from sklearn.pipeline import Pipeline\n",
    "from sklearn.model_selection import cross_val_score"
   ]
  },
  {
   "cell_type": "code",
   "execution_count": 2,
   "metadata": {},
   "outputs": [
    {
     "data": {
      "text/html": [
       "<div>\n",
       "<style scoped>\n",
       "    .dataframe tbody tr th:only-of-type {\n",
       "        vertical-align: middle;\n",
       "    }\n",
       "\n",
       "    .dataframe tbody tr th {\n",
       "        vertical-align: top;\n",
       "    }\n",
       "\n",
       "    .dataframe thead th {\n",
       "        text-align: right;\n",
       "    }\n",
       "</style>\n",
       "<table border=\"1\" class=\"dataframe\">\n",
       "  <thead>\n",
       "    <tr style=\"text-align: right;\">\n",
       "      <th></th>\n",
       "      <th>Time Occurred</th>\n",
       "      <th>Victim Age</th>\n",
       "      <th>Day Occurred</th>\n",
       "      <th>Days To Report</th>\n",
       "      <th>Day of Year</th>\n",
       "      <th>Time of Day</th>\n",
       "      <th>Location Lat</th>\n",
       "      <th>Location Lng</th>\n",
       "    </tr>\n",
       "  </thead>\n",
       "  <tbody>\n",
       "    <tr>\n",
       "      <th>55235</th>\n",
       "      <td>1300</td>\n",
       "      <td>0.0</td>\n",
       "      <td>Saturday</td>\n",
       "      <td>1</td>\n",
       "      <td>204</td>\n",
       "      <td>DAY</td>\n",
       "      <td>34.0967</td>\n",
       "      <td>-118.3070</td>\n",
       "    </tr>\n",
       "    <tr>\n",
       "      <th>214226</th>\n",
       "      <td>1</td>\n",
       "      <td>54.0</td>\n",
       "      <td>Thursday</td>\n",
       "      <td>120</td>\n",
       "      <td>244</td>\n",
       "      <td>NIGHT</td>\n",
       "      <td>34.1903</td>\n",
       "      <td>-118.3965</td>\n",
       "    </tr>\n",
       "    <tr>\n",
       "      <th>49433</th>\n",
       "      <td>1515</td>\n",
       "      <td>60.0</td>\n",
       "      <td>Tuesday</td>\n",
       "      <td>0</td>\n",
       "      <td>347</td>\n",
       "      <td>DAY</td>\n",
       "      <td>33.7767</td>\n",
       "      <td>-118.2413</td>\n",
       "    </tr>\n",
       "    <tr>\n",
       "      <th>8796</th>\n",
       "      <td>1345</td>\n",
       "      <td>36.0</td>\n",
       "      <td>Sunday</td>\n",
       "      <td>0</td>\n",
       "      <td>303</td>\n",
       "      <td>DAY</td>\n",
       "      <td>34.0398</td>\n",
       "      <td>-118.2726</td>\n",
       "    </tr>\n",
       "    <tr>\n",
       "      <th>77393</th>\n",
       "      <td>1930</td>\n",
       "      <td>23.0</td>\n",
       "      <td>Thursday</td>\n",
       "      <td>1</td>\n",
       "      <td>34</td>\n",
       "      <td>NIGHT</td>\n",
       "      <td>34.1530</td>\n",
       "      <td>-118.4487</td>\n",
       "    </tr>\n",
       "    <tr>\n",
       "      <th>...</th>\n",
       "      <td>...</td>\n",
       "      <td>...</td>\n",
       "      <td>...</td>\n",
       "      <td>...</td>\n",
       "      <td>...</td>\n",
       "      <td>...</td>\n",
       "      <td>...</td>\n",
       "      <td>...</td>\n",
       "    </tr>\n",
       "    <tr>\n",
       "      <th>4527</th>\n",
       "      <td>1715</td>\n",
       "      <td>50.0</td>\n",
       "      <td>Wednesday</td>\n",
       "      <td>1</td>\n",
       "      <td>152</td>\n",
       "      <td>DAY</td>\n",
       "      <td>34.0618</td>\n",
       "      <td>-118.2424</td>\n",
       "    </tr>\n",
       "    <tr>\n",
       "      <th>111687</th>\n",
       "      <td>1845</td>\n",
       "      <td>37.0</td>\n",
       "      <td>Tuesday</td>\n",
       "      <td>0</td>\n",
       "      <td>179</td>\n",
       "      <td>DAY</td>\n",
       "      <td>34.0038</td>\n",
       "      <td>-118.2827</td>\n",
       "    </tr>\n",
       "    <tr>\n",
       "      <th>209973</th>\n",
       "      <td>1930</td>\n",
       "      <td>36.0</td>\n",
       "      <td>Monday</td>\n",
       "      <td>4</td>\n",
       "      <td>360</td>\n",
       "      <td>NIGHT</td>\n",
       "      <td>34.1912</td>\n",
       "      <td>-118.5941</td>\n",
       "    </tr>\n",
       "    <tr>\n",
       "      <th>3422</th>\n",
       "      <td>2200</td>\n",
       "      <td>0.0</td>\n",
       "      <td>Sunday</td>\n",
       "      <td>1</td>\n",
       "      <td>114</td>\n",
       "      <td>NIGHT</td>\n",
       "      <td>34.0649</td>\n",
       "      <td>-118.2465</td>\n",
       "    </tr>\n",
       "    <tr>\n",
       "      <th>33452</th>\n",
       "      <td>1730</td>\n",
       "      <td>37.0</td>\n",
       "      <td>Saturday</td>\n",
       "      <td>1</td>\n",
       "      <td>29</td>\n",
       "      <td>NIGHT</td>\n",
       "      <td>34.0660</td>\n",
       "      <td>-118.2189</td>\n",
       "    </tr>\n",
       "  </tbody>\n",
       "</table>\n",
       "<p>43406 rows × 8 columns</p>\n",
       "</div>"
      ],
      "text/plain": [
       "        Time Occurred  Victim Age Day Occurred  Days To Report  Day of Year  \\\n",
       "55235            1300         0.0     Saturday               1          204   \n",
       "214226              1        54.0     Thursday             120          244   \n",
       "49433            1515        60.0      Tuesday               0          347   \n",
       "8796             1345        36.0       Sunday               0          303   \n",
       "77393            1930        23.0     Thursday               1           34   \n",
       "...               ...         ...          ...             ...          ...   \n",
       "4527             1715        50.0    Wednesday               1          152   \n",
       "111687           1845        37.0      Tuesday               0          179   \n",
       "209973           1930        36.0       Monday               4          360   \n",
       "3422             2200         0.0       Sunday               1          114   \n",
       "33452            1730        37.0     Saturday               1           29   \n",
       "\n",
       "       Time of Day  Location Lat  Location Lng  \n",
       "55235          DAY       34.0967     -118.3070  \n",
       "214226       NIGHT       34.1903     -118.3965  \n",
       "49433          DAY       33.7767     -118.2413  \n",
       "8796           DAY       34.0398     -118.2726  \n",
       "77393        NIGHT       34.1530     -118.4487  \n",
       "...            ...           ...           ...  \n",
       "4527           DAY       34.0618     -118.2424  \n",
       "111687         DAY       34.0038     -118.2827  \n",
       "209973       NIGHT       34.1912     -118.5941  \n",
       "3422         NIGHT       34.0649     -118.2465  \n",
       "33452        NIGHT       34.0660     -118.2189  \n",
       "\n",
       "[43406 rows x 8 columns]"
      ]
     },
     "execution_count": 2,
     "metadata": {},
     "output_type": "execute_result"
    }
   ],
   "source": [
    "crimes_df = pd.read_csv(\"crime_data_edited.csv\")\n",
    "\n",
    "crimes_df = crimes_df.sample(frac=0.2)\n",
    "\n",
    "y = crimes_df[\"Crime Code\"]\n",
    "crimes_df.drop(\"Crime Code\", axis=1, inplace=True)\n",
    "\n",
    "crimes_df"
   ]
  },
  {
   "cell_type": "code",
   "execution_count": 3,
   "metadata": {},
   "outputs": [],
   "source": [
    "def k_plot(X, y, kseries, cross_val_func, title):\n",
    "    \n",
    "    result = kseries.apply(\n",
    "        cross_val_func(X, y)\n",
    "    )\n",
    "    \n",
    "    print(\"Minimum error of {0:.3f} at k={1}\".format(result.min(), result.idxmin()))\n",
    "    \n",
    "    ax = result.plot(\n",
    "        kind=\"line\", title=title,\n",
    "        figsize=(10,6), color=\"red\"\n",
    "    )\n",
    "    \n",
    "    ax.set_xlabel(\"k\")\n",
    "    ax.set_ylabel(\"MAE\")\n",
    "    \n",
    "    return ax"
   ]
  },
  {
   "cell_type": "markdown",
   "metadata": {},
   "source": [
    "## K Nearest Neighbors"
   ]
  },
  {
   "cell_type": "code",
   "execution_count": 4,
   "metadata": {},
   "outputs": [],
   "source": [
    "import warnings\n",
    "warnings.filterwarnings(\"ignore\")\n",
    "\n",
    "def get_cross_val_error(X, y):\n",
    "    \n",
    "    def cross_val_error(k=30):\n",
    "        \n",
    "        vec = DictVectorizer(sparse=False)\n",
    "        scaler = StandardScaler()\n",
    "        model = KNeighborsRegressor(n_neighbors=k, metric=\"manhattan\")\n",
    "        \n",
    "        pipeline = Pipeline([(\"vectorizer\", vec), (\"scaler\", scaler), (\"fit\", model)])\n",
    "        \n",
    "        return np.mean(\n",
    "            -cross_val_score(pipeline, X.to_dict(orient=\"records\"), y, \n",
    "                             cv=4, scoring=\"neg_mean_absolute_error\"))\n",
    "   \n",
    "    return cross_val_error"
   ]
  },
  {
   "cell_type": "code",
   "execution_count": null,
   "metadata": {},
   "outputs": [],
   "source": [
    "krange = range(1, 101, 1)\n",
    "kseries = pd.Series(\n",
    "    index=krange,\n",
    "    data=krange\n",
    ")"
   ]
  },
  {
   "cell_type": "code",
   "execution_count": null,
   "metadata": {},
   "outputs": [
    {
     "name": "stdout",
     "output_type": "stream",
     "text": [
      "Minimum error of 177.141 at k=55\n"
     ]
    },
    {
     "data": {
      "image/png": "[encoded data removed]",
      "text/plain": [
       "<Figure size 720x432 with 1 Axes>"
      ]
     },
     "metadata": {
      "needs_background": "light"
     },
     "output_type": "display_data"
    }
   ],
   "source": [
    "ax = k_plot(crimes_df, y, kseries, get_cross_val_error, \"All Variables\")\n",
    "ax.get_figure().savefig(\"kNN_plot.jpeg\")"
   ]
  },
  {
   "cell_type": "code",
   "execution_count": null,
   "metadata": {},
   "outputs": [
    {
     "name": "stdout",
     "output_type": "stream",
     "text": [
      "Minimum error of 175.811 at k=38\n"
     ]
    },
    {
     "data": {
      "image/png": "[encoded data removed]",
      "text/plain": [
       "<Figure size 720x432 with 1 Axes>"
      ]
     },
     "metadata": {
      "needs_background": "light"
     },
     "output_type": "display_data"
    }
   ],
   "source": [
    "k_plot(crimes_df[[\"Victim Age\"]], y, kseries, get_cross_val_error, \"Victim Age\");"
   ]
  },
  {
   "cell_type": "code",
   "execution_count": null,
   "metadata": {},
   "outputs": [
    {
     "name": "stdout",
     "output_type": "stream",
     "text": [
      "Minimum error of 177.470 at k=87\n"
     ]
    },
    {
     "data": {
      "image/png": "[encoded data removed]",
      "text/plain": [
       "<Figure size 720x432 with 1 Axes>"
      ]
     },
     "metadata": {
      "needs_background": "light"
     },
     "output_type": "display_data"
    }
   ],
   "source": [
    "k_plot(crimes_df[[\"Time Occurred\"]], y, kseries, get_cross_val_error, \"Time Occurred\");"
   ]
  },
  {
   "cell_type": "code",
   "execution_count": null,
   "metadata": {},
   "outputs": [
    {
     "name": "stdout",
     "output_type": "stream",
     "text": [
      "Minimum error of 176.780 at k=29\n"
     ]
    },
    {
     "data": {
      "image/png": "[encoded data removed]",
      "text/plain": [
       "<Figure size 720x432 with 1 Axes>"
      ]
     },
     "metadata": {
      "needs_background": "light"
     },
     "output_type": "display_data"
    }
   ],
   "source": [
    "k_plot(crimes_df[[\"Days To Report\"]], y, kseries, get_cross_val_error, \"Time Occurred\");"
   ]
  },
  {
   "cell_type": "code",
   "execution_count": null,
   "metadata": {},
   "outputs": [
    {
     "name": "stdout",
     "output_type": "stream",
     "text": [
      "Minimum error of 176.529 at k=100\n"
     ]
    },
    {
     "data": {
      "image/png": "[encoded data removed]",
      "text/plain": [
       "<Figure size 720x432 with 1 Axes>"
      ]
     },
     "metadata": {
      "needs_background": "light"
     },
     "output_type": "display_data"
    }
   ],
   "source": [
    "k_plot(crimes_df[[\"Location Lat\", \"Location Lng\"]], y, kseries, get_cross_val_error, \"Time Occurred\");"
   ]
  },
  {
   "cell_type": "markdown",
   "metadata": {},
   "source": [
    "The results of the k nearest neighbors model reflects the lack of coherence we saw when visualizing the data. The mean absolute error when using all features is ~177. The city of LA scores crime severity from about 100 to 1000. Thus, an error of 170 suggests these features are not strong perdicts of crime severity. Furthermore, none of the individual features were strong indicators with mean absolute errors also close to 170."
   ]
  },
  {
   "cell_type": "markdown",
   "metadata": {},
   "source": [
    "## Random Forest Model"
   ]
  },
  {
   "cell_type": "code",
   "execution_count": null,
   "metadata": {},
   "outputs": [],
   "source": [
    "def get_cross_val_error_rf(X, y):\n",
    "    \n",
    "    def cross_val_error_rf(k=30):\n",
    "        \n",
    "        vec = DictVectorizer(sparse=False)\n",
    "        scaler = StandardScaler()\n",
    "        model = RandomForestRegressor(n_estimators=k)\n",
    "        \n",
    "        pipeline = Pipeline([(\"vectorizer\", vec), (\"scaler\", scaler), (\"fit\", model)])\n",
    "        \n",
    "        return np.mean(\n",
    "            -cross_val_score(pipeline, X.to_dict(orient=\"records\"), y, \n",
    "                             cv=4, scoring=\"neg_mean_absolute_error\"))\n",
    "   \n",
    "    return cross_val_error_rf"
   ]
  },
  {
   "cell_type": "code",
   "execution_count": null,
   "metadata": {},
   "outputs": [],
   "source": [
    "est_range = range(1, 101, 1)\n",
    "\n",
    "est_series = pd.Series(\n",
    "    index=est_range,\n",
    "    data=est_range\n",
    ")"
   ]
  },
  {
   "cell_type": "code",
   "execution_count": null,
   "metadata": {},
   "outputs": [],
   "source": [
    "ax = k_plot(crimes_df, y, est_series, get_cross_val_error_rf, \"All Variables\")\n",
    "ax.get_figure().savefig(\"rf_plot.jpeg\")"
   ]
  }
 ],
 "metadata": {
  "kernelspec": {
   "display_name": "Python 3",
   "language": "python",
   "name": "python3"
  },
  "language_info": {
   "codemirror_mode": {
    "name": "ipython",
    "version": 3
   },
   "file_extension": ".py",
   "mimetype": "text/x-python",
   "name": "python",
   "nbconvert_exporter": "python",
   "pygments_lexer": "ipython3",
   "version": "3.7.1"
  }
 },
 "nbformat": 4,
 "nbformat_minor": 2
}
